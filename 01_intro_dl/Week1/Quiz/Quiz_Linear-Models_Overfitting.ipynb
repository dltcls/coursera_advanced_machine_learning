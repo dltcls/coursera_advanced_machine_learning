{
 "cells": [
  {
   "cell_type": "markdown",
   "metadata": {},
   "source": [
    "# Quiz 1 - Linear Models"
   ]
  },
  {
   "cell_type": "markdown",
   "metadata": {},
   "source": [
    "#### 1. Consider a vector (1,−2,0.5). Apply a softmax transform to it and enter the first component (accurate to 2 decimal places).\n",
    "\n",
    "Answer: 0.60"
   ]
  },
  {
   "cell_type": "markdown",
   "metadata": {},
   "source": [
    "#### 2. Suppose you are solving a 5-class classification problem with 10 features. How many parameters a linear model would have? Don't forget bias terms!\n",
    "\n",
    "Answer: 55 \n",
    "\n",
    "Parameters = number of classes * number of features + (bias * number of classes)"
   ]
  },
  {
   "cell_type": "markdown",
   "metadata": {},
   "source": [
    "#### 3. There is an analytical solution for linear regression parameters and MSE loss, but we usually prefer gradient descent optimization over it. What are the reasons?\n",
    "\n",
    "Answer:\n",
    "- Gradient descent is more scalable and can be applied for problems with high number of features\n",
    "- Gradient descent does not require to invert a matrix"
   ]
  },
  {
   "cell_type": "markdown",
   "metadata": {},
   "source": [
    "# Quiz 2: Overfitting and Regularization"
   ]
  },
  {
   "cell_type": "markdown",
   "metadata": {},
   "source": [
    "#### 1. Select correct statements about overfitting:\n",
    "\n",
    "Answer:\n",
    "- Large model weights can indicate that model is overfitted\n",
    "- Overfitting is a situation where a model gives lower quality for new data compared to quality on a training sample"
   ]
  },
  {
   "cell_type": "markdown",
   "metadata": {},
   "source": [
    "#### 2. What disadvantages do model validation on holdout sample have?\n",
    "\n",
    "Answer:\n",
    "- It is sensitive to the particular split of the sample into training and test parts\n",
    "- It can give biased quality estimates for small samples"
   ]
  },
  {
   "cell_type": "markdown",
   "metadata": {},
   "source": [
    "#### 3. Suppose you are using k-fold cross-validation to assess model quality. How many times should you train the model during this procedure?\n",
    "\n",
    "Answer: k"
   ]
  },
  {
   "cell_type": "markdown",
   "metadata": {},
   "source": [
    "#### 4. Select correct statements about regularization:\n",
    "\n",
    "Answer:\n",
    "- Weight penalty drives model parameters closer to zero and prevents the model from being too sensitive to small changes in features\n",
    "- Regularization restricts model complexity (namely the scale of the coefficients) to reduce overfitting"
   ]
  },
  {
   "cell_type": "code",
   "execution_count": null,
   "metadata": {},
   "outputs": [],
   "source": []
  }
 ],
 "metadata": {
  "kernelspec": {
   "display_name": "Python 3",
   "language": "python",
   "name": "python3"
  },
  "language_info": {
   "codemirror_mode": {
    "name": "ipython",
    "version": 3
   },
   "file_extension": ".py",
   "mimetype": "text/x-python",
   "name": "python",
   "nbconvert_exporter": "python",
   "pygments_lexer": "ipython3",
   "version": "3.7.4"
  }
 },
 "nbformat": 4,
 "nbformat_minor": 2
}
